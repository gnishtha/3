{
  "nbformat": 4,
  "nbformat_minor": 0,
  "metadata": {
    "colab": {
      "name": "Briq.ipynb",
      "provenance": [],
      "toc_visible": true,
      "mount_file_id": "1_QGYZsOitHwM6LmqO2v2nBOhU8DilJyY",
      "authorship_tag": "ABX9TyP4O79eYeEmjUT/w6JQbO6f",
      "include_colab_link": true
    },
    "kernelspec": {
      "name": "python3",
      "display_name": "Python 3"
    }
  },
  "cells": [
    {
      "cell_type": "markdown",
      "metadata": {
        "id": "view-in-github",
        "colab_type": "text"
      },
      "source": [
        "<a href=\"https://colab.research.google.com/github/gnishtha/3/blob/master/Briq.ipynb\" target=\"_parent\"><img src=\"https://colab.research.google.com/assets/colab-badge.svg\" alt=\"Open In Colab\"/></a>"
      ]
    },
    {
      "cell_type": "code",
      "metadata": {
        "id": "kvtO4wMxcxWa",
        "colab_type": "code",
        "colab": {
          "base_uri": "https://localhost:8080/",
          "height": 578
        },
        "outputId": "cc9999c0-fd2a-4a9f-cfe9-f70147520f8b"
      },
      "source": [
        "!unzip '/content/drive/My Drive/briq.zip'"
      ],
      "execution_count": 1,
      "outputs": [
        {
          "output_type": "stream",
          "text": [
            "Archive:  /content/drive/My Drive/briq.zip\n",
            "   creating: briq/\n",
            "   creating: briq/pdf_test/\n",
            "  inflating: briq/pdf_test/Ferguson Batch from Nicki 2020-03-30.pdf_0.jpg  \n",
            "  inflating: briq/pdf_test/Ferguson Batch from Nicki 2020-03-30.pdf_1.jpg  \n",
            "  inflating: briq/pdf_test/Ferguson Batch from Nicki 2020-03-30.pdf_2.jpg  \n",
            "  inflating: briq/pdf_test/Ferguson Batch from Nicki 2020-03-30.pdf_3.jpg  \n",
            "  inflating: briq/pdf_test/Ferguson Batch from Nicki 2020-03-30.pdf_4.jpg  \n",
            "  inflating: briq/pdf_test/Ferguson Batch from Nicki 2020-03-30.pdf_5.jpg  \n",
            "  inflating: briq/pdf_test/Ferguson Batch from Nicki 2020-03-30.pdf_6.jpg  \n",
            "  inflating: briq/pdf_test/Ferguson Batch from Nicki 2020-03-30.pdf_7.jpg  \n",
            "  inflating: briq/pdf_test/Ferguson Batch from Nicki 2020-03-30.pdf_8.jpg  \n",
            "  inflating: briq/pdf_test/Ferguson Batch from Nicki 2020-03-30.pdf_9.jpg  \n",
            "  inflating: briq/pdf_test/Ferguson Batch from Nicki 2020-03-30.pdf_10.jpg  \n",
            "  inflating: briq/pdf_test/Ferguson Batch from Nicki 2020-03-30.pdf_11.jpg  \n",
            "  inflating: briq/pdf_test/Ferguson Batch from Nicki 2020-03-30.pdf_12.jpg  \n",
            "  inflating: briq/pdf_test/Ferguson Batch from Nicki 2020-03-30.pdf_13.jpg  \n",
            "  inflating: briq/pdf_test/Ferguson Batch from Nicki 2020-03-30.pdf_14.jpg  \n",
            "  inflating: briq/pdf_test/Ferguson Batch from Nicki 2020-03-30.pdf_15.jpg  \n",
            "  inflating: briq/pdf_test/Ferguson Batch from Nicki 2020-03-30.pdf_16.jpg  \n",
            "  inflating: briq/pdf_test/Ferguson Batch from Nicki 2020-03-30.pdf_17.jpg  \n",
            "  inflating: briq/pdf_test/config.yml  \n",
            "   creating: briq/Mcmaster/\n",
            "  inflating: briq/Mcmaster/config.yml  \n",
            "  inflating: briq/Mcmaster/Invoice 38105146 for PO 220020-1.jpg  \n",
            "  inflating: briq/Mcmaster/Invoice 38039914 for PO 4520-1.jpg  \n",
            "   creating: briq/pdf_image/\n",
            "  inflating: briq/pdf_image/fastenal-invoice (3).pdf_0.jpg  \n",
            "  inflating: briq/pdf_image/fastenal-invoice (4).pdf_0.jpg  \n",
            "  inflating: briq/pdf_image/fastenal-invoice (5).pdf_0.jpg  \n",
            "  inflating: briq/pdf_image/config.yml  \n",
            "  inflating: briq/briq_ocr_data_extraction.ipynb  \n",
            "  inflating: briq/briq-chronicle-production-394361177ce1.json  \n"
          ],
          "name": "stdout"
        }
      ]
    },
    {
      "cell_type": "code",
      "metadata": {
        "id": "frCClTyxh7va",
        "colab_type": "code",
        "colab": {
          "base_uri": "https://localhost:8080/",
          "height": 496
        },
        "outputId": "a3a12639-8bbb-4b92-9572-e24de2ca39ec"
      },
      "source": [
        "!pip install google-cloud-vision"
      ],
      "execution_count": 12,
      "outputs": [
        {
          "output_type": "stream",
          "text": [
            "Collecting google-cloud-vision\n",
            "\u001b[?25l  Downloading https://files.pythonhosted.org/packages/0d/7f/e10d602c2dc3f749f1b78377a3357790f1da71b28e7da9e5bc20b3a9bd40/google_cloud_vision-1.0.0-py2.py3-none-any.whl (435kB)\n",
            "\u001b[K     |████████████████████████████████| 440kB 3.4MB/s \n",
            "\u001b[?25hRequirement already satisfied: google-api-core[grpc]<2.0.0dev,>=1.14.0 in /usr/local/lib/python3.6/dist-packages (from google-cloud-vision) (1.16.0)\n",
            "Requirement already satisfied: googleapis-common-protos<2.0dev,>=1.6.0 in /usr/local/lib/python3.6/dist-packages (from google-api-core[grpc]<2.0.0dev,>=1.14.0->google-cloud-vision) (1.51.0)\n",
            "Requirement already satisfied: protobuf>=3.4.0 in /usr/local/lib/python3.6/dist-packages (from google-api-core[grpc]<2.0.0dev,>=1.14.0->google-cloud-vision) (3.10.0)\n",
            "Requirement already satisfied: six>=1.10.0 in /usr/local/lib/python3.6/dist-packages (from google-api-core[grpc]<2.0.0dev,>=1.14.0->google-cloud-vision) (1.12.0)\n",
            "Requirement already satisfied: google-auth<2.0dev,>=0.4.0 in /usr/local/lib/python3.6/dist-packages (from google-api-core[grpc]<2.0.0dev,>=1.14.0->google-cloud-vision) (1.7.2)\n",
            "Requirement already satisfied: pytz in /usr/local/lib/python3.6/dist-packages (from google-api-core[grpc]<2.0.0dev,>=1.14.0->google-cloud-vision) (2018.9)\n",
            "Requirement already satisfied: requests<3.0.0dev,>=2.18.0 in /usr/local/lib/python3.6/dist-packages (from google-api-core[grpc]<2.0.0dev,>=1.14.0->google-cloud-vision) (2.23.0)\n",
            "Requirement already satisfied: setuptools>=34.0.0 in /usr/local/lib/python3.6/dist-packages (from google-api-core[grpc]<2.0.0dev,>=1.14.0->google-cloud-vision) (47.1.1)\n",
            "Requirement already satisfied: grpcio<2.0dev,>=1.8.2; extra == \"grpc\" in /usr/local/lib/python3.6/dist-packages (from google-api-core[grpc]<2.0.0dev,>=1.14.0->google-cloud-vision) (1.29.0)\n",
            "Requirement already satisfied: cachetools<3.2,>=2.0.0 in /usr/local/lib/python3.6/dist-packages (from google-auth<2.0dev,>=0.4.0->google-api-core[grpc]<2.0.0dev,>=1.14.0->google-cloud-vision) (3.1.1)\n",
            "Requirement already satisfied: pyasn1-modules>=0.2.1 in /usr/local/lib/python3.6/dist-packages (from google-auth<2.0dev,>=0.4.0->google-api-core[grpc]<2.0.0dev,>=1.14.0->google-cloud-vision) (0.2.8)\n",
            "Requirement already satisfied: rsa<4.1,>=3.1.4 in /usr/local/lib/python3.6/dist-packages (from google-auth<2.0dev,>=0.4.0->google-api-core[grpc]<2.0.0dev,>=1.14.0->google-cloud-vision) (4.0)\n",
            "Requirement already satisfied: certifi>=2017.4.17 in /usr/local/lib/python3.6/dist-packages (from requests<3.0.0dev,>=2.18.0->google-api-core[grpc]<2.0.0dev,>=1.14.0->google-cloud-vision) (2020.4.5.1)\n",
            "Requirement already satisfied: chardet<4,>=3.0.2 in /usr/local/lib/python3.6/dist-packages (from requests<3.0.0dev,>=2.18.0->google-api-core[grpc]<2.0.0dev,>=1.14.0->google-cloud-vision) (3.0.4)\n",
            "Requirement already satisfied: idna<3,>=2.5 in /usr/local/lib/python3.6/dist-packages (from requests<3.0.0dev,>=2.18.0->google-api-core[grpc]<2.0.0dev,>=1.14.0->google-cloud-vision) (2.9)\n",
            "Requirement already satisfied: urllib3!=1.25.0,!=1.25.1,<1.26,>=1.21.1 in /usr/local/lib/python3.6/dist-packages (from requests<3.0.0dev,>=2.18.0->google-api-core[grpc]<2.0.0dev,>=1.14.0->google-cloud-vision) (1.24.3)\n",
            "Requirement already satisfied: pyasn1<0.5.0,>=0.4.6 in /usr/local/lib/python3.6/dist-packages (from pyasn1-modules>=0.2.1->google-auth<2.0dev,>=0.4.0->google-api-core[grpc]<2.0.0dev,>=1.14.0->google-cloud-vision) (0.4.8)\n",
            "Installing collected packages: google-cloud-vision\n",
            "Successfully installed google-cloud-vision-1.0.0\n"
          ],
          "name": "stdout"
        },
        {
          "output_type": "display_data",
          "data": {
            "application/vnd.colab-display-data+json": {
              "pip_warning": {
                "packages": [
                  "google"
                ]
              }
            }
          },
          "metadata": {
            "tags": []
          }
        }
      ]
    },
    {
      "cell_type": "code",
      "metadata": {
        "id": "DQlUnIfXlnQy",
        "colab_type": "code",
        "colab": {
          "base_uri": "https://localhost:8080/",
          "height": 173
        },
        "outputId": "fa2a8947-bae8-4b94-b6e7-d56737d5f7ee"
      },
      "source": [
        "!pip install ruamel.yaml"
      ],
      "execution_count": 9,
      "outputs": [
        {
          "output_type": "stream",
          "text": [
            "Collecting ruamel.yaml\n",
            "\u001b[?25l  Downloading https://files.pythonhosted.org/packages/a6/92/59af3e38227b9cc14520bf1e59516d99ceca53e3b8448094248171e9432b/ruamel.yaml-0.16.10-py2.py3-none-any.whl (111kB)\n",
            "\u001b[K     |████████████████████████████████| 112kB 3.5MB/s \n",
            "\u001b[?25hCollecting ruamel.yaml.clib>=0.1.2; platform_python_implementation == \"CPython\" and python_version < \"3.9\"\n",
            "\u001b[?25l  Downloading https://files.pythonhosted.org/packages/53/77/4bcd63f362bcb6c8f4f06253c11f9772f64189bf08cf3f40c5ccbda9e561/ruamel.yaml.clib-0.2.0-cp36-cp36m-manylinux1_x86_64.whl (548kB)\n",
            "\u001b[K     |████████████████████████████████| 552kB 6.6MB/s \n",
            "\u001b[?25hInstalling collected packages: ruamel.yaml.clib, ruamel.yaml\n",
            "Successfully installed ruamel.yaml-0.16.10 ruamel.yaml.clib-0.2.0\n"
          ],
          "name": "stdout"
        }
      ]
    },
    {
      "cell_type": "code",
      "metadata": {
        "id": "DQMuckXFjV_5",
        "colab_type": "code",
        "colab": {
          "base_uri": "https://localhost:8080/",
          "height": 1000
        },
        "outputId": "e0d01ddb-ea96-44ab-e236-28310717cde7"
      },
      "source": [
        "import sys\n",
        "import json\n",
        "from collections.abc import Mapping, Sequence\n",
        "from collections import OrderedDict\n",
        "import ruamel.yaml\n",
        "\n",
        "# if you instantiate a YAML instance as yaml, you have to explicitly import the error\n",
        "from ruamel.yaml.error import YAMLError\n",
        "\n",
        "\n",
        "yaml = ruamel.yaml.YAML()  # this uses the new API\n",
        "# if you have standard indentation, no need to use the following\n",
        "yaml.indent(sequence=4, offset=2)\n",
        "\n",
        "input_file = '/content/briq/Mcmaster/config.yaml'\n",
        "intermediate_file = '/content/briq/Mcmaster/config.json'\n",
        "#output_file = 'output.yaml'\n",
        "\n",
        "\n",
        "class OrderlyJSONEncoder(json.JSONEncoder):\n",
        "    def default(self, o):\n",
        "        if isinstance(o, Mapping):\n",
        "            return OrderedDict(o)\n",
        "        elif isinstance(o, Sequence):\n",
        "            return list(o)\n",
        "        return json.JSONEncoder.default(self, o)\n",
        "\n",
        "\n",
        "def yaml_2_json(in_file, out_file):\n",
        "    with open(in_file, 'r') as stream:\n",
        "        try:\n",
        "            datamap = yaml.load(stream)\n",
        "            with open(out_file, 'w') as output:\n",
        "                output.write(OrderlyJSONEncoder(indent=2).encode(datamap))\n",
        "        except YAMLError as exc:\n",
        "            print(exc)\n",
        "            return False\n",
        "    return True\n",
        "\n",
        "\n",
        "yaml_2_json(input_file, intermediate_file)\n",
        "with open(intermediate_file) as fp:\n",
        "    sys.stdout.write(fp.read())"
      ],
      "execution_count": 11,
      "outputs": [
        {
          "output_type": "stream",
          "text": [
            "{\n",
            "  \"Invoice Number\": {\n",
            "    \"x0\": 1120,\n",
            "    \"x1\": 1620,\n",
            "    \"y0\": 370,\n",
            "    \"y1\": 425,\n",
            "    \"type\": \"int\"\n",
            "  },\n",
            "  \"Invoive Date\": {\n",
            "    \"x0\": 1200,\n",
            "    \"x1\": 1620,\n",
            "    \"y0\": 425,\n",
            "    \"y1\": 480,\n",
            "    \"type\": \"date\"\n",
            "  },\n",
            "  \"total amount\": {\n",
            "    \"x0\": 1120,\n",
            "    \"y0\": 1620,\n",
            "    \"x1\": 320,\n",
            "    \"y1\": 270,\n",
            "    \"type\": \"float\"\n",
            "  },\n",
            "  \"table\": {\n",
            "    \"x0\": 20,\n",
            "    \"y0\": 900,\n",
            "    \"x1\": 1650,\n",
            "    \"end\": \"merchandise\",\n",
            "    \"line\": {\n",
            "      \"x0\": 70,\n",
            "      \"x1\": 300,\n",
            "      \"type\": \"str\"\n",
            "    },\n",
            "    \"Product\": {\n",
            "      \"x0\": 300,\n",
            "      \"x1\": 970,\n",
            "      \"type\": \"str\"\n",
            "    },\n",
            "    \"ordered\": {\n",
            "      \"x0\": 970,\n",
            "      \"x1\": 1100,\n",
            "      \"type\": \"str\"\n",
            "    },\n",
            "    \"shiped\": {\n",
            "      \"x0\": 1100,\n",
            "      \"x1\": 1230,\n",
            "      \"type\": \"int\"\n",
            "    },\n",
            "    \"balance\": {\n",
            "      \"x0\": 1230,\n",
            "      \"x1\": 1360,\n",
            "      \"type\": \"str\"\n",
            "    },\n",
            "    \"Price\": {\n",
            "      \"x0\": 1360,\n",
            "      \"x1\": 1500,\n",
            "      \"type\": \"str\"\n",
            "    },\n",
            "    \"Total\": {\n",
            "      \"x0\": 1500,\n",
            "      \"x1\": 1640,\n",
            "      \"type\": \"float\"\n",
            "    }\n",
            "  },\n",
            "  \"moveable_data\": {\n",
            "    \"subtotal\": {\n",
            "      \"start\": \"merchandise\",\n",
            "      \"end\": \"sales\",\n",
            "      \"type\": \"float\"\n",
            "    },\n",
            "    \"tax\": {\n",
            "      \"start\": \"tax\",\n",
            "      \"end\": \"shipping\",\n",
            "      \"type\": \"float\"\n",
            "    }\n",
            "  }\n",
            "}"
          ],
          "name": "stdout"
        }
      ]
    },
    {
      "cell_type": "code",
      "metadata": {
        "id": "FjktabjnlkM2",
        "colab_type": "code",
        "colab": {}
      },
      "source": [
        "  import os\n",
        "os.environ[\"GOOGLE_APPLICATION_CREDENTIALS\"]=\"/content/briq/briq-chronicle-production-394361177ce1.json\""
      ],
      "execution_count": 0,
      "outputs": []
    },
    {
      "cell_type": "code",
      "metadata": {
        "id": "aezQMl4UnHAZ",
        "colab_type": "code",
        "colab": {}
      },
      "source": [
        "import io\n",
        "import os\n",
        "from google.cloud import vision\n",
        "from google.cloud.vision import types\n",
        "import pandas as pd\n",
        "import json\n",
        "import cv2\n",
        "import matplotlib.pyplot as plt\n",
        "from collections import Counter\n",
        "from dateutil import parser\n",
        "import re\n",
        "from google.cloud import storage\n",
        "from google.protobuf import json_format"
      ],
      "execution_count": 0,
      "outputs": []
    },
    {
      "cell_type": "code",
      "metadata": {
        "id": "Ramefm7CnHMf",
        "colab_type": "code",
        "colab": {}
      },
      "source": [
        "def detect_text_v1(path):\n",
        "    \"\"\"Detects text in the file. Using google vision api (output will be in dataframe format)\"\"\"\n",
        "    print(path)\n",
        "    client = vision.ImageAnnotatorClient()\n",
        "\n",
        "    with io.open(path, 'rb') as image_file:\n",
        "        content = image_file.read()\n",
        "\n",
        "    image = vision.types.Image(content=content)\n",
        "\n",
        "    response = client.text_detection(image=image)\n",
        "    texts = response.text_annotations\n",
        "    txt = []\n",
        "    x0 = []\n",
        "    x1 = []\n",
        "    y0 = []\n",
        "    y1 = []\n",
        "    centerx = []\n",
        "    centery = []\n",
        "    for text in texts[1:]:\n",
        "        #print('\\n\"{}\"'.format(text.description))\n",
        "        txt.append(text.description)\n",
        "        vertices = ([(vertex.x, vertex.y)\n",
        "                    for vertex in text.bounding_poly.vertices])\n",
        "        x0.append(vertices[0][0]) \n",
        "        x1.append(vertices[1][0])\n",
        "        y0.append(vertices[0][1])\n",
        "        y1.append(vertices[2][1])\n",
        "        centerx.append(int((vertices[0][0]+vertices[1][0])/2))\n",
        "        centery.append(int((vertices[0][1]+vertices[2][1])/2))\n",
        "        #print('bounds: ',(vertices))\n",
        "    return pd.DataFrame({\"text\":txt,\"x0\":x0,\"y0\":y0,\"x1\":x1,\"y1\":y1,\"centerx\":centerx,\"centery\":centery})\n",
        "    if response.error.message:\n",
        "        raise Exception(\n",
        "            '{}\\nFor more info on error messages, check: '\n",
        "            'https://cloud.google.com/apis/design/errors'.format(\n",
        "                response.error.message))"
      ],
      "execution_count": 0,
      "outputs": []
    },
    {
      "cell_type": "code",
      "metadata": {
        "id": "cJXchNwpx3Ig",
        "colab_type": "code",
        "colab": {}
      },
      "source": [
        ""
      ],
      "execution_count": 0,
      "outputs": []
    },
    {
      "cell_type": "code",
      "metadata": {
        "id": "8_S1wXuHx8HQ",
        "colab_type": "code",
        "colab": {}
      },
      "source": [
        "\"\"\"\n",
        "input -> start_text of and end_text of field\n",
        "output -> return info of field (for moveable data)\n",
        "\"\"\"\n",
        "def get_moveable_field_data(data,key,field):\n",
        "    start_data = data[data['text'].str.contains(key['start'], case=False)]\n",
        "    end_data = data[data['text'].str.contains(key['end'], case=False)]\n",
        "    temp_dct = {}\n",
        "    for ind, row in start_data.iterrows():\n",
        "        temp_dct[str(ind)+\"_\"+str(abs(end_data['line'] - row['line']).idxmin())] = min(abs(end_data['line'] - row['line']))\n",
        "    indxs = min(temp_dct, key=temp_dct.get)\n",
        "    strt = int(indxs.split(\"_\")[0])\n",
        "    end = int(indxs.split(\"_\")[1])\n",
        "    end_line = data.loc[end,'line']\n",
        "    strt_line = data.loc[strt,'line']\n",
        "    if field != \"table\":\n",
        "        if end_line != strt_line:\n",
        "            return data_format((\" \").join(data[(data.loc[strt,'x1'] < data['x0']) & (strt_line == data['line'])]['text']),key['type'])\n",
        "        else:\n",
        "\n",
        "          return data_format((\" \").join(data[(data.loc[strt,'x1'] < data['x0']) & (data.loc[end,'x0'] > data['x1'])  & (strt_line == data['line'])]['text']),key[\"type\"])\n",
        "    else:\n",
        "        #print(key)\n",
        "        return get_table_structure_data(data[(end_line > data['line']) & (strt_line <= data['line'])],key,True)"
      ],
      "execution_count": 0,
      "outputs": []
    },
    {
      "cell_type": "code",
      "metadata": {
        "id": "4fdqhJ2-ydyt",
        "colab_type": "code",
        "colab": {}
      },
      "source": [
        "\"\"\"\n",
        "Convert the types of info field as given in yaml file\n",
        "\"\"\"\n",
        "def data_format(x,frmt):\n",
        "    try:\n",
        "        if frmt == \"float\":\n",
        "            return float(x)\n",
        "        elif frmt == \"int\":\n",
        "            return int(x) \n",
        "        elif frmt == 'date':\n",
        "            return parser.parse(x).isoformat()\n",
        "        else:\n",
        "            return str(x)  \n",
        "    except:\n",
        "        return str(x)"
      ],
      "execution_count": 0,
      "outputs": []
    },
    {
      "cell_type": "code",
      "metadata": {
        "id": "JKL16yOVyzQC",
        "colab_type": "code",
        "colab": {}
      },
      "source": [
        "\"\"\"\n",
        "return key which has particular value (used in Pipline_for_get_complete_row function)\n",
        "\"\"\"\n",
        "def get_key(my_dict,val): \n",
        "    for key, value in my_dict.items(): \n",
        "        if val == value: \n",
        "            return key "
      ],
      "execution_count": 0,
      "outputs": []
    },
    {
      "cell_type": "code",
      "metadata": {
        "id": "EDn4snjzy1vy",
        "colab_type": "code",
        "colab": {}
      },
      "source": [
        "\"\"\"\n",
        "This function is use to convert fetched table as given in images \n",
        "\"\"\"\n",
        "def get_complete_row(df,key):\n",
        "    restructure_data = {new_list: [] for new_list in df.columns}\n",
        "    for index,row in df.iterrows():\n",
        "        try:\n",
        "            if row[key] != \"\":\n",
        "                for i in df.columns:\n",
        "                    restructure_data[i].append(row[i])\n",
        "            else:\n",
        "                for i in df.columns:\n",
        "                    restructure_data[i] = restructure_data[i][:-1] + [restructure_data[i][-1] + row[i]]\n",
        "        except:\n",
        "            pass\n",
        "    return restructure_data"
      ],
      "execution_count": 0,
      "outputs": []
    },
    {
      "cell_type": "code",
      "metadata": {
        "id": "yh8tSuTqy34Q",
        "colab_type": "code",
        "colab": {}
      },
      "source": [
        "\"\"\"\n",
        "input -> raw table data (unformatted)\n",
        "output -> same format tabe as in image\n",
        "function use-> get_key(), get_complete_row()\n",
        "\"\"\"\n",
        "def Pipline_for_get_complete_row(table_data):\n",
        "    df = pd.DataFrame(table_data)\n",
        "    tmp = {new_list: len(list(filter(lambda x: x != \"\", df[new_list]))) for new_list in df.columns}\n",
        "    val = Counter(list(tmp.values())).most_common(1)[0][0]\n",
        "    key = get_key(tmp,val)\n",
        "    updated_table_data = get_complete_row(df,key)\n",
        "    return updated_table_data"
      ],
      "execution_count": 0,
      "outputs": []
    },
    {
      "cell_type": "code",
      "metadata": {
        "id": "ghD_Cwooy8qP",
        "colab_type": "code",
        "colab": {}
      },
      "source": [
        "\"\"\"\n",
        "This function takes google vision data, and extract the table data (unformatted)\n",
        "\"\"\"\n",
        "def get_table_structure_data(data,key,moveable_flag = False):\n",
        "    if moveable_flag == True:\n",
        "        df = data\n",
        "    else:\n",
        "        index = data.loc[data[data['text'].str.contains(key['end'], case=False) & (data['y0'] > key['y0'])].index.values[0],'line']\n",
        "        df = data[(key['x0'] < data['centerx']) & (data['centerx'] < key['x1']) & (key['y0'] < data['centery']) & (data['line'] < index)]\n",
        "    #print(df,\"-->\",data[data['text'].str.contains(key['end'], case=False) & (data['y0'] > key['y0'])],index)\n",
        "    key_list = list(set(list(key.keys()))-set(['x0','x1','y0','end','start']))\n",
        "    table_data = {new_list: [] for new_list in key_list} \n",
        "    for i in key_list:\n",
        "        flag = False\n",
        "        for k in list(set(list(df['line']))):\n",
        "            temp_df = df[(df['line']==k) & (key[i]['x0'] < df['centerx']) & (key[i]['x1'] > df['centerx'])]\n",
        "            if flag:\n",
        "                #print(key[i][\"type\"])\n",
        "                table_data[i].append((\" \").join(temp_df['text']))\n",
        "            flag = True\n",
        "    structure_table = Pipline_for_get_complete_row(table_data)\n",
        "    type_mapping = {i:key[i]['type'] for i in key.keys() if type(key[i]) == dict}\n",
        "    updated_structure_table = {i:[data_format(x,type_mapping[i]) for x in structure_table[i]] for i in structure_table.keys()}\n",
        "    return updated_structure_table"
      ],
      "execution_count": 0,
      "outputs": []
    },
    {
      "cell_type": "code",
      "metadata": {
        "id": "QzPzUvC2zAqh",
        "colab_type": "code",
        "colab": {}
      },
      "source": [
        "\"\"\"\n",
        "input -> folder path in which images and config yaml file is stored\n",
        "output-> will extract all info's of field that are mention in yaml file\n",
        "\"\"\"\n",
        "def get_invoice_data_v1(path):\n",
        "    files = list(set(os.listdir(path))-set(['config.json']))\n",
        "    print(files)\n",
        "    with open(os.path.join(path,'config.json'),'r') as f:\n",
        "        mapping = json.load(f)\n",
        "    data = []\n",
        "    t=[]\n",
        "    for file in files:\n",
        "        temp_df = detect_text_v1(os.path.join(path,file))\n",
        "        tmp_dict = {\"file\":file}\n",
        "        for k in mapping.keys():\n",
        "            if k == 'table':\n",
        "                tmp_dict[k] = get_table_structure_data(get_sequence_data(temp_df),mapping[k])\n",
        "                print(mapping[k])\n",
        "            elif k == \"moveable_data\":\n",
        "                keys = mapping[k]\n",
        "                for key in keys:\n",
        "                    tmp_dict[key] = get_moveable_field_data(get_sequence_data(temp_df),keys[key],key)\n",
        "            else:\n",
        "                filter_data = temp_df[(mapping[k]['x0'] < temp_df['centerx']) & (temp_df['centerx'] < mapping[k]['x1']) & (mapping[k]['y0'] < temp_df['centery']) & (temp_df['centery'] < mapping[k]['y1'])].sort_values(by='x0')\n",
        "                tmp_dict[k] = data_format((\" \").join(get_sequence_data(filter_data)['text']),mapping[k][\"type\"])\n",
        "        data.append(tmp_dict)\n",
        "    return data"
      ],
      "execution_count": 0,
      "outputs": []
    },
    {
      "cell_type": "code",
      "metadata": {
        "id": "Yyn0yTjmzEAN",
        "colab_type": "code",
        "colab": {
          "base_uri": "https://localhost:8080/",
          "height": 544
        },
        "outputId": "6f11824b-470c-488b-c8c6-eab216483589"
      },
      "source": [
        "\n",
        "get_invoice_data_v1(\"/content/briq/Mcmaster/\")"
      ],
      "execution_count": 39,
      "outputs": [
        {
          "output_type": "stream",
          "text": [
            "['Invoice 38039914 for PO 4520-1.jpg', 'Invoice 38105146 for PO 220020-1.jpg']\n",
            "/content/briq/Mcmaster/Invoice 38039914 for PO 4520-1.jpg\n",
            "/content/briq/Mcmaster/Invoice 38105146 for PO 220020-1.jpg\n"
          ],
          "name": "stdout"
        },
        {
          "output_type": "execute_result",
          "data": {
            "text/plain": [
              "[{'Invoice Number': 38039914,\n",
              "  'Invoive Date': '2020-04-13T00:00:00',\n",
              "  'file': 'Invoice 38039914 for PO 4520-1.jpg',\n",
              "  'subtotal': 23.56,\n",
              "  'table': {'Price': ['5.89Еach'],\n",
              "   'Product': ['Oven Cleaner, 18 oz. Aerosol Can'],\n",
              "   'Total': [23.56],\n",
              "   'balance': [''],\n",
              "   'line': ['1 7141T41'],\n",
              "   'ordered': ['4Еach'],\n",
              "   'shiped': [4]},\n",
              "  'tax': 1.88,\n",
              "  'total amount': ''},\n",
              " {'Invoice Number': 38105146,\n",
              "  'Invoive Date': '2020-04-14T00:00:00',\n",
              "  'file': 'Invoice 38105146 for PO 220020-1.jpg',\n",
              "  'subtotal': 485.02,\n",
              "  'table': {'Price': ['34.18Per Pack', '7.68Еach', '74.31Each'],\n",
              "   'Product': ['Trade No. 18 Precision Knife Blades, Packs of 100',\n",
              "    'Easy-Grip Precision Knife',\n",
              "    'Forged Steel Hoist Ring for Lifting, 3/4\"-10 ThreadSize, 6-7/8\" Overall Height'],\n",
              "   'Total': [34.18, 153.6, 297.24],\n",
              "   'balance': ['', '', ''],\n",
              "   'line': ['1 38995A69', '35515A12', '2994T71'],\n",
              "   'ordered': ['1Рack', '20Each', '4Еach'],\n",
              "   'shiped': [1, 20, 4]},\n",
              "  'tax': 38.8,\n",
              "  'total amount': ''}]"
            ]
          },
          "metadata": {
            "tags": []
          },
          "execution_count": 39
        }
      ]
    },
    {
      "cell_type": "code",
      "metadata": {
        "id": "Zchwg8dkzRfC",
        "colab_type": "code",
        "colab": {
          "base_uri": "https://localhost:8080/",
          "height": 51
        },
        "outputId": "c451bb96-fdf4-4eac-ea2c-29588dc49829"
      },
      "source": [
        "!ls '/content/briq/Mcmaster'"
      ],
      "execution_count": 28,
      "outputs": [
        {
          "output_type": "stream",
          "text": [
            " config.json\t\t\t      'Invoice 38105146 for PO 220020-1.jpg'\n",
            "'Invoice 38039914 for PO 4520-1.jpg'\n"
          ],
          "name": "stdout"
        }
      ]
    },
    {
      "cell_type": "code",
      "metadata": {
        "id": "WW_VCDrszgkV",
        "colab_type": "code",
        "colab": {}
      },
      "source": [
        "!cd '/content/briq/Mcmaster' && rm -R '.ipynb_checkpoints'"
      ],
      "execution_count": 0,
      "outputs": []
    },
    {
      "cell_type": "code",
      "metadata": {
        "id": "Jcc90Q8n3-Lu",
        "colab_type": "code",
        "colab": {}
      },
      "source": [
        ""
      ],
      "execution_count": 0,
      "outputs": []
    }
  ]
}