{
  "nbformat": 4,
  "nbformat_minor": 0,
  "metadata": {
    "colab": {
      "name": "Mini Project 6th Sem mark 2.ipynb",
      "provenance": [],
      "collapsed_sections": [],
      "include_colab_link": true
    },
    "kernelspec": {
      "name": "python3",
      "display_name": "Python 3"
    }
  },
  "cells": [
    {
      "cell_type": "markdown",
      "metadata": {
        "id": "view-in-github",
        "colab_type": "text"
      },
      "source": [
        "<a href=\"https://colab.research.google.com/github/gnishtha/3/blob/master/Mini_Project_6th_Sem_mark_2.ipynb\" target=\"_parent\"><img src=\"https://colab.research.google.com/assets/colab-badge.svg\" alt=\"Open In Colab\"/></a>"
      ]
    },
    {
      "cell_type": "code",
      "metadata": {
        "id": "dV1LsdI_XARG",
        "colab_type": "code",
        "colab": {}
      },
      "source": [
        "#Importing libraries\n",
        "import numpy as np\n",
        "import pandas as pd\n",
        "import matplotlib.pyplot as plt\n",
        "%matplotlib inline\n",
        "from sklearn.datasets import fetch_openml\n",
        "from sklearn.model_selection import train_test_split\n",
        "from sklearn.preprocessing import StandardScaler\n",
        "from sklearn.decomposition import PCA\n",
        "from sklearn.linear_model import LogisticRegression\n",
        "import time\n",
        "from sklearn.metrics import accuracy_score\n",
        "from sklearn.feature_selection import VarianceThreshold\n",
        "from sklearn.ensemble import RandomForestClassifier\n",
        "from xgboost import XGBClassifier"
      ],
      "execution_count": 0,
      "outputs": []
    },
    {
      "cell_type": "code",
      "metadata": {
        "id": "Xl9-vp68cpeo",
        "colab_type": "code",
        "colab": {}
      },
      "source": [
        "# Setting the default values for some plotting parameters\n",
        "plt.rcParams[\"axes.labelsize\"] = 16\n",
        "plt.rcParams[\"axes.titlesize\"] = 18\n",
        "plt.rcParams[\"xtick.labelsize\"] = 14\n",
        "plt.rcParams[\"ytick.labelsize\"] = 14\n",
        "plt.rcParams[\"legend.fontsize\"] = 12\n",
        "plt.rcParams[\"figure.figsize\"] = [10,8]"
      ],
      "execution_count": 0,
      "outputs": []
    },
    {
      "cell_type": "code",
      "metadata": {
        "id": "6p8_9p-pYrP4",
        "colab_type": "code",
        "outputId": "f46479fc-b72e-41ac-f5e0-74032293292e",
        "colab": {
          "base_uri": "https://localhost:8080/",
          "height": 168
        }
      },
      "source": [
        "#Fetching dataset\n",
        "dataset = fetch_openml('mnist_784')\n",
        "print(dataset)"
      ],
      "execution_count": 0,
      "outputs": [
        {
          "output_type": "stream",
          "text": [
            "{'data': array([[0., 0., 0., ..., 0., 0., 0.],\n",
            "       [0., 0., 0., ..., 0., 0., 0.],\n",
            "       [0., 0., 0., ..., 0., 0., 0.],\n",
            "       ...,\n",
            "       [0., 0., 0., ..., 0., 0., 0.],\n",
            "       [0., 0., 0., ..., 0., 0., 0.],\n",
            "       [0., 0., 0., ..., 0., 0., 0.]]), 'target': array(['5', '0', '4', ..., '4', '5', '6'], dtype=object), 'frame': None, 'feature_names': ['pixel1', 'pixel2', 'pixel3', 'pixel4', 'pixel5', 'pixel6', 'pixel7', 'pixel8', 'pixel9', 'pixel10', 'pixel11', 'pixel12', 'pixel13', 'pixel14', 'pixel15', 'pixel16', 'pixel17', 'pixel18', 'pixel19', 'pixel20', 'pixel21', 'pixel22', 'pixel23', 'pixel24', 'pixel25', 'pixel26', 'pixel27', 'pixel28', 'pixel29', 'pixel30', 'pixel31', 'pixel32', 'pixel33', 'pixel34', 'pixel35', 'pixel36', 'pixel37', 'pixel38', 'pixel39', 'pixel40', 'pixel41', 'pixel42', 'pixel43', 'pixel44', 'pixel45', 'pixel46', 'pixel47', 'pixel48', 'pixel49', 'pixel50', 'pixel51', 'pixel52', 'pixel53', 'pixel54', 'pixel55', 'pixel56', 'pixel57', 'pixel58', 'pixel59', 'pixel60', 'pixel61', 'pixel62', 'pixel63', 'pixel64', 'pixel65', 'pixel66', 'pixel67', 'pixel68', 'pixel69', 'pixel70', 'pixel71', 'pixel72', 'pixel73', 'pixel74', 'pixel75', 'pixel76', 'pixel77', 'pixel78', 'pixel79', 'pixel80', 'pixel81', 'pixel82', 'pixel83', 'pixel84', 'pixel85', 'pixel86', 'pixel87', 'pixel88', 'pixel89', 'pixel90', 'pixel91', 'pixel92', 'pixel93', 'pixel94', 'pixel95', 'pixel96', 'pixel97', 'pixel98', 'pixel99', 'pixel100', 'pixel101', 'pixel102', 'pixel103', 'pixel104', 'pixel105', 'pixel106', 'pixel107', 'pixel108', 'pixel109', 'pixel110', 'pixel111', 'pixel112', 'pixel113', 'pixel114', 'pixel115', 'pixel116', 'pixel117', 'pixel118', 'pixel119', 'pixel120', 'pixel121', 'pixel122', 'pixel123', 'pixel124', 'pixel125', 'pixel126', 'pixel127', 'pixel128', 'pixel129', 'pixel130', 'pixel131', 'pixel132', 'pixel133', 'pixel134', 'pixel135', 'pixel136', 'pixel137', 'pixel138', 'pixel139', 'pixel140', 'pixel141', 'pixel142', 'pixel143', 'pixel144', 'pixel145', 'pixel146', 'pixel147', 'pixel148', 'pixel149', 'pixel150', 'pixel151', 'pixel152', 'pixel153', 'pixel154', 'pixel155', 'pixel156', 'pixel157', 'pixel158', 'pixel159', 'pixel160', 'pixel161', 'pixel162', 'pixel163', 'pixel164', 'pixel165', 'pixel166', 'pixel167', 'pixel168', 'pixel169', 'pixel170', 'pixel171', 'pixel172', 'pixel173', 'pixel174', 'pixel175', 'pixel176', 'pixel177', 'pixel178', 'pixel179', 'pixel180', 'pixel181', 'pixel182', 'pixel183', 'pixel184', 'pixel185', 'pixel186', 'pixel187', 'pixel188', 'pixel189', 'pixel190', 'pixel191', 'pixel192', 'pixel193', 'pixel194', 'pixel195', 'pixel196', 'pixel197', 'pixel198', 'pixel199', 'pixel200', 'pixel201', 'pixel202', 'pixel203', 'pixel204', 'pixel205', 'pixel206', 'pixel207', 'pixel208', 'pixel209', 'pixel210', 'pixel211', 'pixel212', 'pixel213', 'pixel214', 'pixel215', 'pixel216', 'pixel217', 'pixel218', 'pixel219', 'pixel220', 'pixel221', 'pixel222', 'pixel223', 'pixel224', 'pixel225', 'pixel226', 'pixel227', 'pixel228', 'pixel229', 'pixel230', 'pixel231', 'pixel232', 'pixel233', 'pixel234', 'pixel235', 'pixel236', 'pixel237', 'pixel238', 'pixel239', 'pixel240', 'pixel241', 'pixel242', 'pixel243', 'pixel244', 'pixel245', 'pixel246', 'pixel247', 'pixel248', 'pixel249', 'pixel250', 'pixel251', 'pixel252', 'pixel253', 'pixel254', 'pixel255', 'pixel256', 'pixel257', 'pixel258', 'pixel259', 'pixel260', 'pixel261', 'pixel262', 'pixel263', 'pixel264', 'pixel265', 'pixel266', 'pixel267', 'pixel268', 'pixel269', 'pixel270', 'pixel271', 'pixel272', 'pixel273', 'pixel274', 'pixel275', 'pixel276', 'pixel277', 'pixel278', 'pixel279', 'pixel280', 'pixel281', 'pixel282', 'pixel283', 'pixel284', 'pixel285', 'pixel286', 'pixel287', 'pixel288', 'pixel289', 'pixel290', 'pixel291', 'pixel292', 'pixel293', 'pixel294', 'pixel295', 'pixel296', 'pixel297', 'pixel298', 'pixel299', 'pixel300', 'pixel301', 'pixel302', 'pixel303', 'pixel304', 'pixel305', 'pixel306', 'pixel307', 'pixel308', 'pixel309', 'pixel310', 'pixel311', 'pixel312', 'pixel313', 'pixel314', 'pixel315', 'pixel316', 'pixel317', 'pixel318', 'pixel319', 'pixel320', 'pixel321', 'pixel322', 'pixel323', 'pixel324', 'pixel325', 'pixel326', 'pixel327', 'pixel328', 'pixel329', 'pixel330', 'pixel331', 'pixel332', 'pixel333', 'pixel334', 'pixel335', 'pixel336', 'pixel337', 'pixel338', 'pixel339', 'pixel340', 'pixel341', 'pixel342', 'pixel343', 'pixel344', 'pixel345', 'pixel346', 'pixel347', 'pixel348', 'pixel349', 'pixel350', 'pixel351', 'pixel352', 'pixel353', 'pixel354', 'pixel355', 'pixel356', 'pixel357', 'pixel358', 'pixel359', 'pixel360', 'pixel361', 'pixel362', 'pixel363', 'pixel364', 'pixel365', 'pixel366', 'pixel367', 'pixel368', 'pixel369', 'pixel370', 'pixel371', 'pixel372', 'pixel373', 'pixel374', 'pixel375', 'pixel376', 'pixel377', 'pixel378', 'pixel379', 'pixel380', 'pixel381', 'pixel382', 'pixel383', 'pixel384', 'pixel385', 'pixel386', 'pixel387', 'pixel388', 'pixel389', 'pixel390', 'pixel391', 'pixel392', 'pixel393', 'pixel394', 'pixel395', 'pixel396', 'pixel397', 'pixel398', 'pixel399', 'pixel400', 'pixel401', 'pixel402', 'pixel403', 'pixel404', 'pixel405', 'pixel406', 'pixel407', 'pixel408', 'pixel409', 'pixel410', 'pixel411', 'pixel412', 'pixel413', 'pixel414', 'pixel415', 'pixel416', 'pixel417', 'pixel418', 'pixel419', 'pixel420', 'pixel421', 'pixel422', 'pixel423', 'pixel424', 'pixel425', 'pixel426', 'pixel427', 'pixel428', 'pixel429', 'pixel430', 'pixel431', 'pixel432', 'pixel433', 'pixel434', 'pixel435', 'pixel436', 'pixel437', 'pixel438', 'pixel439', 'pixel440', 'pixel441', 'pixel442', 'pixel443', 'pixel444', 'pixel445', 'pixel446', 'pixel447', 'pixel448', 'pixel449', 'pixel450', 'pixel451', 'pixel452', 'pixel453', 'pixel454', 'pixel455', 'pixel456', 'pixel457', 'pixel458', 'pixel459', 'pixel460', 'pixel461', 'pixel462', 'pixel463', 'pixel464', 'pixel465', 'pixel466', 'pixel467', 'pixel468', 'pixel469', 'pixel470', 'pixel471', 'pixel472', 'pixel473', 'pixel474', 'pixel475', 'pixel476', 'pixel477', 'pixel478', 'pixel479', 'pixel480', 'pixel481', 'pixel482', 'pixel483', 'pixel484', 'pixel485', 'pixel486', 'pixel487', 'pixel488', 'pixel489', 'pixel490', 'pixel491', 'pixel492', 'pixel493', 'pixel494', 'pixel495', 'pixel496', 'pixel497', 'pixel498', 'pixel499', 'pixel500', 'pixel501', 'pixel502', 'pixel503', 'pixel504', 'pixel505', 'pixel506', 'pixel507', 'pixel508', 'pixel509', 'pixel510', 'pixel511', 'pixel512', 'pixel513', 'pixel514', 'pixel515', 'pixel516', 'pixel517', 'pixel518', 'pixel519', 'pixel520', 'pixel521', 'pixel522', 'pixel523', 'pixel524', 'pixel525', 'pixel526', 'pixel527', 'pixel528', 'pixel529', 'pixel530', 'pixel531', 'pixel532', 'pixel533', 'pixel534', 'pixel535', 'pixel536', 'pixel537', 'pixel538', 'pixel539', 'pixel540', 'pixel541', 'pixel542', 'pixel543', 'pixel544', 'pixel545', 'pixel546', 'pixel547', 'pixel548', 'pixel549', 'pixel550', 'pixel551', 'pixel552', 'pixel553', 'pixel554', 'pixel555', 'pixel556', 'pixel557', 'pixel558', 'pixel559', 'pixel560', 'pixel561', 'pixel562', 'pixel563', 'pixel564', 'pixel565', 'pixel566', 'pixel567', 'pixel568', 'pixel569', 'pixel570', 'pixel571', 'pixel572', 'pixel573', 'pixel574', 'pixel575', 'pixel576', 'pixel577', 'pixel578', 'pixel579', 'pixel580', 'pixel581', 'pixel582', 'pixel583', 'pixel584', 'pixel585', 'pixel586', 'pixel587', 'pixel588', 'pixel589', 'pixel590', 'pixel591', 'pixel592', 'pixel593', 'pixel594', 'pixel595', 'pixel596', 'pixel597', 'pixel598', 'pixel599', 'pixel600', 'pixel601', 'pixel602', 'pixel603', 'pixel604', 'pixel605', 'pixel606', 'pixel607', 'pixel608', 'pixel609', 'pixel610', 'pixel611', 'pixel612', 'pixel613', 'pixel614', 'pixel615', 'pixel616', 'pixel617', 'pixel618', 'pixel619', 'pixel620', 'pixel621', 'pixel622', 'pixel623', 'pixel624', 'pixel625', 'pixel626', 'pixel627', 'pixel628', 'pixel629', 'pixel630', 'pixel631', 'pixel632', 'pixel633', 'pixel634', 'pixel635', 'pixel636', 'pixel637', 'pixel638', 'pixel639', 'pixel640', 'pixel641', 'pixel642', 'pixel643', 'pixel644', 'pixel645', 'pixel646', 'pixel647', 'pixel648', 'pixel649', 'pixel650', 'pixel651', 'pixel652', 'pixel653', 'pixel654', 'pixel655', 'pixel656', 'pixel657', 'pixel658', 'pixel659', 'pixel660', 'pixel661', 'pixel662', 'pixel663', 'pixel664', 'pixel665', 'pixel666', 'pixel667', 'pixel668', 'pixel669', 'pixel670', 'pixel671', 'pixel672', 'pixel673', 'pixel674', 'pixel675', 'pixel676', 'pixel677', 'pixel678', 'pixel679', 'pixel680', 'pixel681', 'pixel682', 'pixel683', 'pixel684', 'pixel685', 'pixel686', 'pixel687', 'pixel688', 'pixel689', 'pixel690', 'pixel691', 'pixel692', 'pixel693', 'pixel694', 'pixel695', 'pixel696', 'pixel697', 'pixel698', 'pixel699', 'pixel700', 'pixel701', 'pixel702', 'pixel703', 'pixel704', 'pixel705', 'pixel706', 'pixel707', 'pixel708', 'pixel709', 'pixel710', 'pixel711', 'pixel712', 'pixel713', 'pixel714', 'pixel715', 'pixel716', 'pixel717', 'pixel718', 'pixel719', 'pixel720', 'pixel721', 'pixel722', 'pixel723', 'pixel724', 'pixel725', 'pixel726', 'pixel727', 'pixel728', 'pixel729', 'pixel730', 'pixel731', 'pixel732', 'pixel733', 'pixel734', 'pixel735', 'pixel736', 'pixel737', 'pixel738', 'pixel739', 'pixel740', 'pixel741', 'pixel742', 'pixel743', 'pixel744', 'pixel745', 'pixel746', 'pixel747', 'pixel748', 'pixel749', 'pixel750', 'pixel751', 'pixel752', 'pixel753', 'pixel754', 'pixel755', 'pixel756', 'pixel757', 'pixel758', 'pixel759', 'pixel760', 'pixel761', 'pixel762', 'pixel763', 'pixel764', 'pixel765', 'pixel766', 'pixel767', 'pixel768', 'pixel769', 'pixel770', 'pixel771', 'pixel772', 'pixel773', 'pixel774', 'pixel775', 'pixel776', 'pixel777', 'pixel778', 'pixel779', 'pixel780', 'pixel781', 'pixel782', 'pixel783', 'pixel784'], 'target_names': ['class'], 'DESCR': \"**Author**: Yann LeCun, Corinna Cortes, Christopher J.C. Burges  \\n**Source**: [MNIST Website](http://yann.lecun.com/exdb/mnist/) - Date unknown  \\n**Please cite**:  \\n\\nThe MNIST database of handwritten digits with 784 features, raw data available at: http://yann.lecun.com/exdb/mnist/. It can be split in a training set of the first 60,000 examples, and a test set of 10,000 examples  \\n\\nIt is a subset of a larger set available from NIST. The digits have been size-normalized and centered in a fixed-size image. It is a good database for people who want to try learning techniques and pattern recognition methods on real-world data while spending minimal efforts on preprocessing and formatting. The original black and white (bilevel) images from NIST were size normalized to fit in a 20x20 pixel box while preserving their aspect ratio. The resulting images contain grey levels as a result of the anti-aliasing technique used by the normalization algorithm. the images were centered in a 28x28 image by computing the center of mass of the pixels, and translating the image so as to position this point at the center of the 28x28 field.  \\n\\nWith some classification methods (particularly template-based methods, such as SVM and K-nearest neighbors), the error rate improves when the digits are centered by bounding box rather than center of mass. If you do this kind of pre-processing, you should report it in your publications. The MNIST database was constructed from NIST's NIST originally designated SD-3 as their training set and SD-1 as their test set. However, SD-3 is much cleaner and easier to recognize than SD-1. The reason for this can be found on the fact that SD-3 was collected among Census Bureau employees, while SD-1 was collected among high-school students. Drawing sensible conclusions from learning experiments requires that the result be independent of the choice of training set and test among the complete set of samples. Therefore it was necessary to build a new database by mixing NIST's datasets.  \\n\\nThe MNIST training set is composed of 30,000 patterns from SD-3 and 30,000 patterns from SD-1. Our test set was composed of 5,000 patterns from SD-3 and 5,000 patterns from SD-1. The 60,000 pattern training set contained examples from approximately 250 writers. We made sure that the sets of writers of the training set and test set were disjoint. SD-1 contains 58,527 digit images written by 500 different writers. In contrast to SD-3, where blocks of data from each writer appeared in sequence, the data in SD-1 is scrambled. Writer identities for SD-1 is available and we used this information to unscramble the writers. We then split SD-1 in two: characters written by the first 250 writers went into our new training set. The remaining 250 writers were placed in our test set. Thus we had two sets with nearly 30,000 examples each. The new training set was completed with enough examples from SD-3, starting at pattern # 0, to make a full set of 60,000 training patterns. Similarly, the new test set was completed with SD-3 examples starting at pattern # 35,000 to make a full set with 60,000 test patterns. Only a subset of 10,000 test images (5,000 from SD-1 and 5,000 from SD-3) is available on this site. The full 60,000 sample training set is available.\\n\\nDownloaded from openml.org.\", 'details': {'id': '554', 'name': 'mnist_784', 'version': '1', 'format': 'ARFF', 'upload_date': '2014-09-29T03:28:38', 'licence': 'Public', 'url': 'https://www.openml.org/data/v1/download/52667/mnist_784.arff', 'file_id': '52667', 'default_target_attribute': 'class', 'tag': ['AzurePilot', 'OpenML-CC18', 'OpenML100', 'study_1', 'study_123', 'study_41', 'study_99', 'vision'], 'visibility': 'public', 'status': 'active', 'processing_date': '2018-10-03 21:23:30', 'md5_checksum': '0298d579eb1b86163de7723944c7e495'}, 'categories': {}, 'url': 'https://www.openml.org/d/554'}\n"
          ],
          "name": "stdout"
        }
      ]
    },
    {
      "cell_type": "code",
      "metadata": {
        "id": "UvGjfLGoczIe",
        "colab_type": "code",
        "colab": {}
      },
      "source": [
        "#Splitting datset into train and test parts\n",
        "train_X, test_X, train_Y, test_Y = train_test_split(dataset.data,dataset.target,test_size=0.8)"
      ],
      "execution_count": 0,
      "outputs": []
    },
    {
      "cell_type": "code",
      "metadata": {
        "id": "K5HyGtwcc05k",
        "colab_type": "code",
        "colab": {}
      },
      "source": [
        "#Standardizing the data.\n",
        "#It arranges the data in a standard normal distribution\n",
        "sc = StandardScaler()\n",
        "\n",
        "sc.fit(train_X)\n",
        "\n",
        "train_X = sc.transform(train_X)\n",
        "test_X = sc.transform(test_X)"
      ],
      "execution_count": 0,
      "outputs": []
    },
    {
      "cell_type": "code",
      "metadata": {
        "id": "7tOe6YB5d8Mc",
        "colab_type": "code",
        "colab": {}
      },
      "source": [
        "#initialising empty lists\n",
        "time_ct = [[],[],[]]\n",
        "accuracy_ct = [[],[],[]]"
      ],
      "execution_count": 0,
      "outputs": []
    },
    {
      "cell_type": "markdown",
      "metadata": {
        "id": "yZelkosVfmfc",
        "colab_type": "text"
      },
      "source": [
        "# **Applying Different Classification Techniques**\n",
        "\n",
        "\n"
      ]
    },
    {
      "cell_type": "markdown",
      "metadata": {
        "id": "vpdJZ8aEbRVi",
        "colab_type": "text"
      },
      "source": [
        "Logistic Regression"
      ]
    },
    {
      "cell_type": "code",
      "metadata": {
        "id": "oHq3naNmfney",
        "colab_type": "code",
        "outputId": "8208ebd7-1406-4814-8056-c73117eef118",
        "colab": {
          "base_uri": "https://localhost:8080/",
          "height": 204
        }
      },
      "source": [
        "lr = LogisticRegression()\n",
        "#fitting our logistic regression model to our training dataset\n",
        "start = time.time()\n",
        "lr.fit(train_X,train_Y)\n",
        "stop = time.time()\n",
        "#making predictions through the model trained\n",
        "pred = lr.predict(test_X)\n",
        "#calculating time taken by the model to get trained\n",
        "print(\"Training Time\"+str(stop-start))\n",
        "time_ct[0].append(stop-start)\n",
        "#printing the accuracy score\n",
        "print(\"Accuracy Score:\"+str(accuracy_score(test_Y,pred)))\n",
        "accuracy_ct[0].append(accuracy_score(test_Y,pred))"
      ],
      "execution_count": 0,
      "outputs": [
        {
          "output_type": "stream",
          "text": [
            "/usr/local/lib/python3.6/dist-packages/sklearn/linear_model/_logistic.py:940: ConvergenceWarning: lbfgs failed to converge (status=1):\n",
            "STOP: TOTAL NO. of ITERATIONS REACHED LIMIT.\n",
            "\n",
            "Increase the number of iterations (max_iter) or scale the data as shown in:\n",
            "    https://scikit-learn.org/stable/modules/preprocessing.html\n",
            "Please also refer to the documentation for alternative solver options:\n",
            "    https://scikit-learn.org/stable/modules/linear_model.html#logistic-regression\n",
            "  extra_warning_msg=_LOGISTIC_SOLVER_CONVERGENCE_MSG)\n"
          ],
          "name": "stderr"
        },
        {
          "output_type": "stream",
          "text": [
            "Training Time7.625766754150391\n",
            "Accuracy Score:0.882875\n"
          ],
          "name": "stdout"
        }
      ]
    },
    {
      "cell_type": "markdown",
      "metadata": {
        "id": "AftjHe9IgMht",
        "colab_type": "text"
      },
      "source": [
        "Random Forest Classifier"
      ]
    },
    {
      "cell_type": "code",
      "metadata": {
        "id": "BSQaDnIcgL2I",
        "colab_type": "code",
        "outputId": "a94930d5-2348-4ae6-f6c1-72405cbfcd3e",
        "colab": {
          "base_uri": "https://localhost:8080/",
          "height": 54
        }
      },
      "source": [
        "model = RandomForestClassifier(n_estimators=100)\n",
        "#fitting randomForestClassifier model to our dataset\n",
        "start = time.time()\n",
        "model.fit(train_X,train_Y)\n",
        "stop = time.time()\n",
        "pred = model.predict(test_X)\n",
        "#calculating time taken by the model to get trained\n",
        "print(\"Training Time\"+str(stop-start))\n",
        "time_ct[1].append(stop-start)\n",
        "#printing the accuracy score\n",
        "print(\"Accuracy Score:\"+str(accuracy_score(test_Y,pred)))\n",
        "accuracy_ct[1].append(accuracy_score(test_Y,pred))"
      ],
      "execution_count": 0,
      "outputs": [
        {
          "output_type": "stream",
          "text": [
            "Training Time8.519829750061035\n",
            "Accuracy Score:0.953875\n"
          ],
          "name": "stdout"
        }
      ]
    },
    {
      "cell_type": "markdown",
      "metadata": {
        "id": "TTYorVFFcANL",
        "colab_type": "text"
      },
      "source": [
        "XGBoost"
      ]
    },
    {
      "cell_type": "code",
      "metadata": {
        "id": "JJvMAaOLcBg6",
        "colab_type": "code",
        "outputId": "bbad13b8-1792-4ef0-83ca-c30be38ae737",
        "colab": {
          "base_uri": "https://localhost:8080/",
          "height": 54
        }
      },
      "source": [
        "xgb = XGBClassifier(n_estimators = 10, max_depth = 3)\n",
        "#fitting XGBoost classifier model to our dataset\n",
        "start = time.time()\n",
        "xgb.fit(train_X,train_Y)\n",
        "stop = time.time()\n",
        "pred = xgb.predict(test_X)\n",
        "#calculating time taken by the model to get trained\n",
        "print(\"Training Time\"+str(stop-start))\n",
        "time_ct[2].append(stop-start)\n",
        "#printing the accuracy score\n",
        "print(\"Accuracy Score:\"+str(accuracy_score(test_Y,pred)))\n",
        "accuracy_ct[2].append(accuracy_score(test_Y,pred))"
      ],
      "execution_count": 0,
      "outputs": [
        {
          "output_type": "stream",
          "text": [
            "Training Time23.091732025146484\n",
            "Accuracy Score:0.8307321428571428\n"
          ],
          "name": "stdout"
        }
      ]
    },
    {
      "cell_type": "markdown",
      "metadata": {
        "id": "afZ-mrTheAtQ",
        "colab_type": "text"
      },
      "source": [
        "# **Applying first dimensionality reduction technique i.e. Prinicpal Component Analysis(PCA)**"
      ]
    },
    {
      "cell_type": "code",
      "metadata": {
        "id": "R-ans_WEde5d",
        "colab_type": "code",
        "colab": {}
      },
      "source": [
        "#bring the number of components down to 400\n",
        "pca = PCA(n_components=400)\n",
        "pca.fit(train_X)\n",
        "#tranforming the training and dataset to contain principal components only\n",
        "pc_train_X = pca.transform(train_X)\n",
        "pc_test_X = pca.transform(test_X)"
      ],
      "execution_count": 0,
      "outputs": []
    },
    {
      "cell_type": "markdown",
      "metadata": {
        "id": "1p17_Q9opdvX",
        "colab_type": "text"
      },
      "source": [
        "Logistic regression after pca"
      ]
    },
    {
      "cell_type": "code",
      "metadata": {
        "id": "jBmZTIoQdg7q",
        "colab_type": "code",
        "outputId": "37ec1cd5-b2bf-4162-ee17-a13cc7f72668",
        "colab": {
          "base_uri": "https://localhost:8080/",
          "height": 204
        }
      },
      "source": [
        "#Applying logistic regression classification technique after applying PCA\n",
        "lr = LogisticRegression()\n",
        "#traing the model\n",
        "start = time.time()\n",
        "lr.fit(pc_train_X,train_Y)\n",
        "stop = time.time()\n",
        "#making predictions using trained model\n",
        "pred = lr.predict(pc_test_X)\n",
        "#printing the training time\n",
        "print(\"Training time: \"+ str(stop-start))\n",
        "time_ct[0].append(stop-start)\n",
        "#printing the accuracy score\n",
        "print(\"Accuracy Score:\"+str(accuracy_score(test_Y,pred)))\n",
        "accuracy_ct[0].append(accuracy_score(test_Y,pred))"
      ],
      "execution_count": 0,
      "outputs": [
        {
          "output_type": "stream",
          "text": [
            "/usr/local/lib/python3.6/dist-packages/sklearn/linear_model/_logistic.py:940: ConvergenceWarning: lbfgs failed to converge (status=1):\n",
            "STOP: TOTAL NO. of ITERATIONS REACHED LIMIT.\n",
            "\n",
            "Increase the number of iterations (max_iter) or scale the data as shown in:\n",
            "    https://scikit-learn.org/stable/modules/preprocessing.html\n",
            "Please also refer to the documentation for alternative solver options:\n",
            "    https://scikit-learn.org/stable/modules/linear_model.html#logistic-regression\n",
            "  extra_warning_msg=_LOGISTIC_SOLVER_CONVERGENCE_MSG)\n"
          ],
          "name": "stderr"
        },
        {
          "output_type": "stream",
          "text": [
            "Training time: 4.2419915199279785\n",
            "Accuracy Score:0.898125\n"
          ],
          "name": "stdout"
        }
      ]
    },
    {
      "cell_type": "markdown",
      "metadata": {
        "id": "zNrdcdqBm0g8",
        "colab_type": "text"
      },
      "source": [
        "Random Forest Classifier after pca"
      ]
    },
    {
      "cell_type": "code",
      "metadata": {
        "id": "Oryg6qmzm9GJ",
        "colab_type": "code",
        "outputId": "e6a7294b-d657-4346-abbf-36d076b0e0c8",
        "colab": {
          "base_uri": "https://localhost:8080/",
          "height": 54
        }
      },
      "source": [
        "#Applying random forest classification technique after applying PCA\n",
        "model = RandomForestClassifier(n_estimators=100)\n",
        "start = time.time()\n",
        "model.fit(pc_train_X,train_Y)\n",
        "stop = time.time()\n",
        "#making predictions through the trained model\n",
        "pred = model.predict(pc_test_X)\n",
        "#calculating time taken by the model to get trained\n",
        "print(\"Training Time\"+str(stop-start))\n",
        "time_ct[1].append(stop-start)\n",
        "#printing the accuracy score\n",
        "print(\"Accuracy Score:\"+str(accuracy_score(test_Y,pred)))\n",
        "accuracy_ct[1].append(accuracy_score(test_Y,pred))"
      ],
      "execution_count": 0,
      "outputs": [
        {
          "output_type": "stream",
          "text": [
            "Training Time31.534985065460205\n",
            "Accuracy Score:0.9121785714285714\n"
          ],
          "name": "stdout"
        }
      ]
    },
    {
      "cell_type": "markdown",
      "metadata": {
        "id": "gOJI7E4Db8UA",
        "colab_type": "text"
      },
      "source": [
        "XGBoost after PCA"
      ]
    },
    {
      "cell_type": "code",
      "metadata": {
        "id": "sFR2xTdPbq8y",
        "colab_type": "code",
        "outputId": "33d4777c-7a37-4e62-c218-94c81e04e478",
        "colab": {
          "base_uri": "https://localhost:8080/",
          "height": 54
        }
      },
      "source": [
        "#Applying XGBoost classification technique after applying PCA\n",
        "xgb = XGBClassifier(n_estimators = 10, max_depth = 3)\n",
        "start = time.time()\n",
        "xgb.fit(pc_train_X,train_Y)\n",
        "stop = time.time()\n",
        "#making predictions through the trained model\n",
        "pred = xgb.predict(pc_test_X)\n",
        "#calculating time taken by the model to get trained\n",
        "print(\"Training Time\"+str(stop-start))\n",
        "time_ct[2].append(stop-start)\n",
        "#printing the accuracy score\n",
        "print(\"Accuracy Score:\"+str(accuracy_score(test_Y,pred)))\n",
        "accuracy_ct[2].append(accuracy_score(test_Y,pred))"
      ],
      "execution_count": 0,
      "outputs": [
        {
          "output_type": "stream",
          "text": [
            "Training Time34.99918723106384\n",
            "Accuracy Score:0.76375\n"
          ],
          "name": "stdout"
        }
      ]
    },
    {
      "cell_type": "markdown",
      "metadata": {
        "id": "IHvCJLHUeB6l",
        "colab_type": "text"
      },
      "source": [
        "# **Applying the second dimensionality reductions technique i.e. by dropping columns having low variance then threshold.**"
      ]
    },
    {
      "cell_type": "code",
      "metadata": {
        "id": "14VqwMMleEdF",
        "colab_type": "code",
        "colab": {}
      },
      "source": [
        "#setting the threshold values as 0.001. \n",
        "model = VarianceThreshold(threshold=0.001)\n",
        "model.fit(train_X)\n",
        "#tranforming the training and testing dataset accordingly\n",
        "opt_train_X = model.transform(train_X)\n",
        "opt_test_X = model.transform(test_X)"
      ],
      "execution_count": 0,
      "outputs": []
    },
    {
      "cell_type": "markdown",
      "metadata": {
        "id": "uV7HEVBG3fAF",
        "colab_type": "text"
      },
      "source": [
        "Logistic Regression"
      ]
    },
    {
      "cell_type": "code",
      "metadata": {
        "id": "hyYK8XYEeJ21",
        "colab_type": "code",
        "outputId": "688b1554-2dbb-445d-b236-2f3d3b0721fc",
        "colab": {
          "base_uri": "https://localhost:8080/",
          "height": 204
        }
      },
      "source": [
        "#applying logistic regression technique after applying variance threshold\n",
        "lr = LogisticRegression()\n",
        "#training the model\n",
        "start = time.time()\n",
        "lr.fit(opt_train_X,train_Y)\n",
        "stop = time.time()\n",
        "#making predictions through the model trained\n",
        "pred = lr.predict(opt_test_X)\n",
        "#printing the training time\n",
        "print(\"Training time: \"+ str(stop-start))\n",
        "time_ct[0].append(stop-start)\n",
        "#printing the accuracy score\n",
        "print(\"Accuracy Score:\"+str(accuracy_score(test_Y,pred)))\n",
        "accuracy_ct[0].append(accuracy_score(test_Y,pred))"
      ],
      "execution_count": 0,
      "outputs": [
        {
          "output_type": "stream",
          "text": [
            "/usr/local/lib/python3.6/dist-packages/sklearn/linear_model/_logistic.py:940: ConvergenceWarning: lbfgs failed to converge (status=1):\n",
            "STOP: TOTAL NO. of ITERATIONS REACHED LIMIT.\n",
            "\n",
            "Increase the number of iterations (max_iter) or scale the data as shown in:\n",
            "    https://scikit-learn.org/stable/modules/preprocessing.html\n",
            "Please also refer to the documentation for alternative solver options:\n",
            "    https://scikit-learn.org/stable/modules/linear_model.html#logistic-regression\n",
            "  extra_warning_msg=_LOGISTIC_SOLVER_CONVERGENCE_MSG)\n"
          ],
          "name": "stderr"
        },
        {
          "output_type": "stream",
          "text": [
            "Training time: 6.965969562530518\n",
            "Accuracy Score:0.882875\n"
          ],
          "name": "stdout"
        }
      ]
    },
    {
      "cell_type": "markdown",
      "metadata": {
        "id": "iZQbPG_Uc20X",
        "colab_type": "text"
      },
      "source": [
        "Random Forest"
      ]
    },
    {
      "cell_type": "code",
      "metadata": {
        "id": "1uRnE7PqYks1",
        "colab_type": "code",
        "outputId": "14c128ae-4980-4152-9d0c-8666b481e56a",
        "colab": {
          "base_uri": "https://localhost:8080/",
          "height": 54
        }
      },
      "source": [
        "from sklearn.ensemble import RandomForestClassifier\n",
        "#Applying RandomForest classification technique after applying variance threshold\n",
        "model = RandomForestClassifier(n_estimators=100)\n",
        "start = time.time()\n",
        "model.fit(opt_train_X,train_Y)\n",
        "stop = time.time()\n",
        "#making predictions through the trained model\n",
        "pred = model.predict(opt_test_X)\n",
        "#calculating time taken by the model to get trained\n",
        "print(\"Training Time\"+str(stop-start))\n",
        "time_ct[1].append(stop-start)\n",
        "#printing the accuracy score\n",
        "print(\"Accuracy Score:\"+str(accuracy_score(test_Y,pred)))\n",
        "accuracy_ct[1].append(accuracy_score(test_Y,pred))"
      ],
      "execution_count": 0,
      "outputs": [
        {
          "output_type": "stream",
          "text": [
            "Training Time9.007299184799194\n",
            "Accuracy Score:0.95375\n"
          ],
          "name": "stdout"
        }
      ]
    },
    {
      "cell_type": "markdown",
      "metadata": {
        "id": "HC34qaM9c4wt",
        "colab_type": "text"
      },
      "source": [
        "XGBoost"
      ]
    },
    {
      "cell_type": "code",
      "metadata": {
        "id": "dxjJnOpUYnrk",
        "colab_type": "code",
        "outputId": "b49b39c1-1a3d-46dc-f0e7-f622001c3697",
        "colab": {
          "base_uri": "https://localhost:8080/",
          "height": 54
        }
      },
      "source": [
        "#Applying XGBoost classification technique after applying variance threshold\n",
        "xgb = XGBClassifier(n_estimators = 10, max_depth = 3)\n",
        "start = time.time()\n",
        "xgb.fit(opt_train_X,train_Y)\n",
        "stop = time.time()\n",
        "#making predictions through the trained model\n",
        "pred = xgb.predict(opt_test_X)\n",
        "#calculating time taken by the model to get trained\n",
        "print(\"Training Time\"+str(stop-start))\n",
        "time_ct[2].append(stop-start)\n",
        "#printing the accuracy score\n",
        "print(\"Accuracy Score:\"+str(accuracy_score(test_Y,pred)))\n",
        "accuracy_ct[2].append(accuracy_score(test_Y,pred))"
      ],
      "execution_count": 0,
      "outputs": [
        {
          "output_type": "stream",
          "text": [
            "Training Time20.684942722320557\n",
            "Accuracy Score:0.8307321428571428\n"
          ],
          "name": "stdout"
        }
      ]
    },
    {
      "cell_type": "code",
      "metadata": {
        "id": "QZNoFCwggXr2",
        "colab_type": "code",
        "outputId": "229cbfa5-fe26-4d1b-b1f4-678d67a53683",
        "colab": {
          "base_uri": "https://localhost:8080/",
          "height": 36
        }
      },
      "source": [
        "print(accuracy_ct)"
      ],
      "execution_count": 0,
      "outputs": [
        {
          "output_type": "stream",
          "text": [
            "[[0.882875, 0.898125, 0.882875], [0.953875, 0.9121785714285714, 0.95375], [0.8307321428571428, 0.76375, 0.8307321428571428]]\n"
          ],
          "name": "stdout"
        }
      ]
    },
    {
      "cell_type": "code",
      "metadata": {
        "id": "Y-Hz7ABPfIfd",
        "colab_type": "code",
        "outputId": "6718cd04-90d7-414d-999e-a135ec776fc0",
        "colab": {
          "base_uri": "https://localhost:8080/",
          "height": 506
        }
      },
      "source": [
        "#plotting the cmparison of accuracy score through different classification techniques after applying different dimensionality reduction techniques\n",
        "plt.plot([\"Normal\",\"PCA\",\"Low Variance Filter\"],accuracy_ct[0],label=\"Logistic Regression\")\n",
        "plt.plot([\"Normal\",\"PCA\",\"Low Variance Filter\"],accuracy_ct[1],label=\"Random Forest\")\n",
        "plt.plot([\"Normal\",\"PCA\",\"Low Variance Filter\"],accuracy_ct[2],label=\"XGBoost\")\n",
        "plt.xlabel(\"Reduction Techniques\")\n",
        "plt.ylabel(\"Accuracy Score\")\n",
        "plt.legend()\n",
        "plt.show()"
      ],
      "execution_count": 0,
      "outputs": [
        {
          "output_type": "display_data",
          "data": {
            "image/png": "[encoded data removed]",
            "text/plain": [
              "<Figure size 720x576 with 1 Axes>"
            ]
          },
          "metadata": {
            "tags": [],
            "needs_background": "light"
          }
        }
      ]
    },
    {
      "cell_type": "code",
      "metadata": {
        "id": "2gOUdcUYl6Qb",
        "colab_type": "code",
        "outputId": "0cfa0358-adfd-4943-89d1-8b2631fc9693",
        "colab": {
          "base_uri": "https://localhost:8080/",
          "height": 506
        }
      },
      "source": [
        "#plotting the cmparison of training time through different classification techniques after applying different dimensionality reduction techniques\n",
        "\n",
        "plt.plot([\"Normal\",\"PCA\",\"Low Variance Filter\"],time_ct[0],label=\"Logistic Regression\")\n",
        "plt.plot([\"Normal\",\"PCA\",\"Low Variance Filter\"],time_ct[1],label=\"Random Forest\")\n",
        "plt.plot([\"Normal\",\"PCA\",\"Low Variance Filter\"],time_ct[2],label=\"XGBoost\")\n",
        "plt.xlabel(\"Reduction Techniques\")\n",
        "plt.ylabel(\"Time(Sec)\")\n",
        "plt.legend()\n",
        "plt.show()"
      ],
      "execution_count": 0,
      "outputs": [
        {
          "output_type": "display_data",
          "data": {
            "image/png": "[encoded data removed]",
            "text/plain": [
              "<Figure size 720x576 with 1 Axes>"
            ]
          },
          "metadata": {
            "tags": [],
            "needs_background": "light"
          }
        }
      ]
    },
    {
      "cell_type": "markdown",
      "metadata": {
        "id": "RZKzn8UZeVlc",
        "colab_type": "text"
      },
      "source": [
        "# **Task 1:** Generating graphs depicting the impact on classification accuracy due to dimensionality reduction# "
      ]
    },
    {
      "cell_type": "code",
      "metadata": {
        "id": "a3pztc_LlccL",
        "colab_type": "code",
        "colab": {}
      },
      "source": [
        "#initialising empty list\n",
        "accuracy = []\n",
        "training_time = []"
      ],
      "execution_count": 0,
      "outputs": []
    },
    {
      "cell_type": "code",
      "metadata": {
        "id": "wVmI-6fPmBMr",
        "colab_type": "code",
        "outputId": "295256c0-203b-46f5-ed46-ea01e23fb42b",
        "colab": {
          "base_uri": "https://localhost:8080/",
          "height": 162
        }
      },
      "source": [
        "#FIRST CASE = Normal\n",
        "#intialising classification model\n",
        "lr = LogisticRegression()\n",
        "start = time.time()\n",
        "lr.fit(train_X,train_Y)\n",
        "stop = time.time()\n",
        "#making prediction\n",
        "pred = lr.predict(test_X)\n",
        "#appening the training time into the list \"training_time\"\n",
        "training_time.append(stop - start)\n",
        "#appending the accuracy score into the list \"accuracy\"\n",
        "accuracy.append(accuracy_score(test_Y,pred))"
      ],
      "execution_count": 0,
      "outputs": [
        {
          "output_type": "stream",
          "text": [
            "/usr/local/lib/python3.6/dist-packages/sklearn/linear_model/_logistic.py:940: ConvergenceWarning: lbfgs failed to converge (status=1):\n",
            "STOP: TOTAL NO. of ITERATIONS REACHED LIMIT.\n",
            "\n",
            "Increase the number of iterations (max_iter) or scale the data as shown in:\n",
            "    https://scikit-learn.org/stable/modules/preprocessing.html\n",
            "Please also refer to the documentation for alternative solver options:\n",
            "    https://scikit-learn.org/stable/modules/linear_model.html#logistic-regression\n",
            "  extra_warning_msg=_LOGISTIC_SOLVER_CONVERGENCE_MSG)\n"
          ],
          "name": "stderr"
        }
      ]
    },
    {
      "cell_type": "code",
      "metadata": {
        "id": "KtLehX3oeUCy",
        "colab_type": "code",
        "outputId": "a0394f87-35d8-4176-94b9-179328d07826",
        "colab": {
          "base_uri": "https://localhost:8080/",
          "height": 162
        }
      },
      "source": [
        "#SECOND CASE : PCA with 700 components\n",
        "#applying pca with number of components = 700\n",
        "pca = PCA(n_components=700)\n",
        "pca.fit(train_X)\n",
        "#transforming the training and testing dataset accordingly\n",
        "pc_train_X = pca.transform(train_X)\n",
        "pc_test_X = pca.transform(test_X)\n",
        "#fitting the model\n",
        "lr = LogisticRegression()\n",
        "start = time.time()\n",
        "lr.fit(pc_train_X,train_Y)\n",
        "stop = time.time()\n",
        "#predicting the values according to the model trained\n",
        "pred = lr.predict(pc_test_X)\n",
        "#calcualting new training time with 700 components and appending this entry to list \"training_time\"\n",
        "training_time.append(stop - start)\n",
        "#calcualting new accuracy score with 700 compnents and appending this entry to list \"accuracy\"\n",
        "accuracy.append(accuracy_score(test_Y,pred))"
      ],
      "execution_count": 0,
      "outputs": [
        {
          "output_type": "stream",
          "text": [
            "/usr/local/lib/python3.6/dist-packages/sklearn/linear_model/_logistic.py:940: ConvergenceWarning: lbfgs failed to converge (status=1):\n",
            "STOP: TOTAL NO. of ITERATIONS REACHED LIMIT.\n",
            "\n",
            "Increase the number of iterations (max_iter) or scale the data as shown in:\n",
            "    https://scikit-learn.org/stable/modules/preprocessing.html\n",
            "Please also refer to the documentation for alternative solver options:\n",
            "    https://scikit-learn.org/stable/modules/linear_model.html#logistic-regression\n",
            "  extra_warning_msg=_LOGISTIC_SOLVER_CONVERGENCE_MSG)\n"
          ],
          "name": "stderr"
        }
      ]
    },
    {
      "cell_type": "code",
      "metadata": {
        "id": "ZsugkxtWl7M5",
        "colab_type": "code",
        "outputId": "3e31873a-961b-4925-9fe7-5900ee80d3e5",
        "colab": {
          "base_uri": "https://localhost:8080/",
          "height": 162
        }
      },
      "source": [
        "#THIRD CASE : PCA with 400 components\n",
        "#applying pca with number of components = 400 \n",
        "pca = PCA(n_components=400)\n",
        "pca.fit(train_X)\n",
        "#transforming the training and testing dataset accordingly\n",
        "pc_train_X = pca.transform(train_X)\n",
        "pc_test_X = pca.transform(test_X)\n",
        "#fitting the model\n",
        "lr = LogisticRegression()\n",
        "start = time.time()\n",
        "lr.fit(pc_train_X,train_Y)\n",
        "stop = time.time()\n",
        "#predicting the values according to the model trained\n",
        "pred = lr.predict(pc_test_X)\n",
        "#calcualting new training time with 400 components and appending this entry to list \"training_time\"\n",
        "training_time.append(stop - start)\n",
        "#calcualting new accuracy score with 400 components and appending this entry to list \"accuracy\"\n",
        "accuracy.append(accuracy_score(test_Y,pred))"
      ],
      "execution_count": 0,
      "outputs": [
        {
          "output_type": "stream",
          "text": [
            "/usr/local/lib/python3.6/dist-packages/sklearn/linear_model/_logistic.py:940: ConvergenceWarning: lbfgs failed to converge (status=1):\n",
            "STOP: TOTAL NO. of ITERATIONS REACHED LIMIT.\n",
            "\n",
            "Increase the number of iterations (max_iter) or scale the data as shown in:\n",
            "    https://scikit-learn.org/stable/modules/preprocessing.html\n",
            "Please also refer to the documentation for alternative solver options:\n",
            "    https://scikit-learn.org/stable/modules/linear_model.html#logistic-regression\n",
            "  extra_warning_msg=_LOGISTIC_SOLVER_CONVERGENCE_MSG)\n"
          ],
          "name": "stderr"
        }
      ]
    },
    {
      "cell_type": "code",
      "metadata": {
        "id": "F_w_aey-l7eP",
        "colab_type": "code",
        "outputId": "061f1d7e-ea8b-4046-991c-40d4f1da6a1c",
        "colab": {
          "base_uri": "https://localhost:8080/",
          "height": 162
        }
      },
      "source": [
        "#THIRD CASE : PCA with 200 components\n",
        "#applying pca with number of components = 200 \n",
        "pca = PCA(n_components=200)\n",
        "pca.fit(train_X)\n",
        "#transforming the training and testing dataset accordingly\n",
        "pc_train_X = pca.transform(train_X)\n",
        "pc_test_X = pca.transform(test_X)\n",
        "#fitting the model\n",
        "lr = LogisticRegression()\n",
        "start = time.time()\n",
        "lr.fit(pc_train_X,train_Y)\n",
        "stop = time.time()\n",
        "#predicting the values according to the model trained\n",
        "pred = lr.predict(pc_test_X)\n",
        "#calcualting new training time with 200 components and appending this entry to list \"training_time\"\n",
        "training_time.append(stop - start)\n",
        "#calcualting new accuracy score with 200 components and appending this entry to list \"accuracy\"\n",
        "accuracy.append(accuracy_score(test_Y,pred))"
      ],
      "execution_count": 0,
      "outputs": [
        {
          "output_type": "stream",
          "text": [
            "/usr/local/lib/python3.6/dist-packages/sklearn/linear_model/_logistic.py:940: ConvergenceWarning: lbfgs failed to converge (status=1):\n",
            "STOP: TOTAL NO. of ITERATIONS REACHED LIMIT.\n",
            "\n",
            "Increase the number of iterations (max_iter) or scale the data as shown in:\n",
            "    https://scikit-learn.org/stable/modules/preprocessing.html\n",
            "Please also refer to the documentation for alternative solver options:\n",
            "    https://scikit-learn.org/stable/modules/linear_model.html#logistic-regression\n",
            "  extra_warning_msg=_LOGISTIC_SOLVER_CONVERGENCE_MSG)\n"
          ],
          "name": "stderr"
        }
      ]
    },
    {
      "cell_type": "code",
      "metadata": {
        "id": "FEaOICU7hmyx",
        "colab_type": "code",
        "outputId": "e35f2312-24ef-4bf4-f109-22b426f91a3a",
        "colab": {
          "base_uri": "https://localhost:8080/",
          "height": 53
        }
      },
      "source": [
        "#printing entries in list accuracy \n",
        "print(accuracy)\n",
        "#printing all the training time \n",
        "print(training_time)"
      ],
      "execution_count": 0,
      "outputs": [
        {
          "output_type": "stream",
          "text": [
            "[0.8826071428571428, 0.8826071428571428, 0.89525, 0.9099821428571429]\n",
            "[7.87533164024353, 7.0782270431518555, 4.4275312423706055, 3.0063719749450684]\n"
          ],
          "name": "stdout"
        }
      ]
    },
    {
      "cell_type": "code",
      "metadata": {
        "id": "4IqKnSLnm8Q7",
        "colab_type": "code",
        "outputId": "3ebd25e1-d582-442d-de7b-bb0adafc716d",
        "colab": {
          "base_uri": "https://localhost:8080/",
          "height": 506
        }
      },
      "source": [
        "#Generating the graph\n",
        "plt.plot([\"Normal\",\"700 components\",\"400 components\",\"200 components\"],accuracy)\n",
        "plt.xlabel(\"No. of components\")\n",
        "plt.ylabel(\"Accuracy Score\")\n",
        "plt.show()"
      ],
      "execution_count": 0,
      "outputs": [
        {
          "output_type": "display_data",
          "data": {
            "image/png": "[encoded data removed]",
            "text/plain": [
              "<Figure size 720x576 with 1 Axes>"
            ]
          },
          "metadata": {
            "tags": [],
            "needs_background": "light"
          }
        }
      ]
    },
    {
      "cell_type": "markdown",
      "metadata": {
        "id": "ZFBxbEd2oD6u",
        "colab_type": "text"
      },
      "source": [
        "# *TASK 2*: Demonstrating how feature selection improves accuracy and decreases training time"
      ]
    },
    {
      "cell_type": "code",
      "metadata": {
        "id": "il9YOxXUoFez",
        "colab_type": "code",
        "outputId": "192dbaf5-6d83-4a8b-c115-e1acd3d00043",
        "colab": {
          "base_uri": "https://localhost:8080/",
          "height": 522
        }
      },
      "source": [
        "#Generating graph to depict improvement in accuracy \n",
        "plt.plot([\"Normal\",\"700 components\",\"400 components\",\"200 components\"],accuracy)\n",
        "plt.xlabel(\"No. of components\")\n",
        "plt.ylabel(\"Accuracy Score\")\n",
        "plt.show()\n",
        "print(accuracy)"
      ],
      "execution_count": 0,
      "outputs": [
        {
          "output_type": "display_data",
          "data": {
            "image/png": "[encoded data removed]",
            "text/plain": [
              "<Figure size 720x576 with 1 Axes>"
            ]
          },
          "metadata": {
            "tags": [],
            "needs_background": "light"
          }
        },
        {
          "output_type": "stream",
          "text": [
            "[0.8826964285714286, 0.8826964285714286, 0.8930892857142857, 0.9084285714285715]\n"
          ],
          "name": "stdout"
        }
      ]
    },
    {
      "cell_type": "code",
      "metadata": {
        "id": "10mGkbulo4BE",
        "colab_type": "code",
        "outputId": "96b9be7e-b7f3-42ce-8ed5-33950a33a9a4",
        "colab": {
          "base_uri": "https://localhost:8080/",
          "height": 524
        }
      },
      "source": [
        "#Generating graph to depict decrease in training time \n",
        "plt.scatter([\"Normal\",\"700 components\",\"400 components\",\"200 components\"],training_time)\n",
        "plt.xlabel(\"No. of components\")\n",
        "plt.ylabel(\"Training Time(Sec)\")\n",
        "plt.show()\n",
        "print(training_time)"
      ],
      "execution_count": 0,
      "outputs": [
        {
          "output_type": "display_data",
          "data": {
            "image/png": "[encoded data removed]",
            "text/plain": [
              "<Figure size 720x576 with 1 Axes>"
            ]
          },
          "metadata": {
            "tags": [],
            "needs_background": "light"
          }
        },
        {
          "output_type": "stream",
          "text": [
            "[7.87533164024353, 7.0782270431518555, 4.4275312423706055, 3.0063719749450684]\n"
          ],
          "name": "stdout"
        }
      ]
    },
    {
      "cell_type": "markdown",
      "metadata": {
        "id": "J3yl5Ek7plS_",
        "colab_type": "text"
      },
      "source": [
        "# **TASK 3 :**  Identifying one predominant feature that has greatest impact on establishing accuracy of classification"
      ]
    },
    {
      "cell_type": "code",
      "metadata": {
        "id": "5yY2dJy4pkUT",
        "colab_type": "code",
        "outputId": "a19e1b28-672d-4a56-e517-3de8cdf472c1",
        "colab": {
          "base_uri": "https://localhost:8080/",
          "height": 35
        }
      },
      "source": [
        "#Mounting google drive\n",
        "from google.colab import drive\n",
        "drive.mount('/content/drive')"
      ],
      "execution_count": 0,
      "outputs": [
        {
          "output_type": "stream",
          "text": [
            "Drive already mounted at /content/drive; to attempt to forcibly remount, call drive.mount(\"/content/drive\", force_remount=True).\n"
          ],
          "name": "stdout"
        }
      ]
    },
    {
      "cell_type": "code",
      "metadata": {
        "id": "ITUKu6n2pxpY",
        "colab_type": "code",
        "outputId": "23a17fce-41c5-4566-aca5-0acc17385e60",
        "colab": {
          "base_uri": "https://localhost:8080/",
          "height": 489
        }
      },
      "source": [
        "#Loading the dataset\n",
        "db = pd.read_csv(\"/content/drive/My Drive/mini_project_6th_sem/diabetes.csv\")\n",
        "print(\"Shape : \",db.shape)\n",
        "print(db.info())\n",
        "print(db.head())"
      ],
      "execution_count": 0,
      "outputs": [
        {
          "output_type": "stream",
          "text": [
            "Shape :  (768, 9)\n",
            "<class 'pandas.core.frame.DataFrame'>\n",
            "RangeIndex: 768 entries, 0 to 767\n",
            "Data columns (total 9 columns):\n",
            " #   Column                    Non-Null Count  Dtype  \n",
            "---  ------                    --------------  -----  \n",
            " 0   Pregnancies               768 non-null    int64  \n",
            " 1   Glucose                   768 non-null    int64  \n",
            " 2   BloodPressure             768 non-null    int64  \n",
            " 3   SkinThickness             768 non-null    int64  \n",
            " 4   Insulin                   768 non-null    int64  \n",
            " 5   BMI                       768 non-null    float64\n",
            " 6   DiabetesPedigreeFunction  768 non-null    float64\n",
            " 7   Age                       768 non-null    int64  \n",
            " 8   Outcome                   768 non-null    int64  \n",
            "dtypes: float64(2), int64(7)\n",
            "memory usage: 54.1 KB\n",
            "None\n",
            "   Pregnancies  Glucose  BloodPressure  ...  DiabetesPedigreeFunction  Age  Outcome\n",
            "0            6      148             72  ...                     0.627   50        1\n",
            "1            1       85             66  ...                     0.351   31        0\n",
            "2            8      183             64  ...                     0.672   32        1\n",
            "3            1       89             66  ...                     0.167   21        0\n",
            "4            0      137             40  ...                     2.288   33        1\n",
            "\n",
            "[5 rows x 9 columns]\n"
          ],
          "name": "stdout"
        }
      ]
    },
    {
      "cell_type": "code",
      "metadata": {
        "id": "JQTFjw1crZwv",
        "colab_type": "code",
        "outputId": "a6125b1d-15c6-47de-f13a-8eea95caf575",
        "colab": {
          "base_uri": "https://localhost:8080/",
          "height": 108
        }
      },
      "source": [
        "#Splitting dataset into dependent variable and independent variable\n",
        "db_Y = db['Outcome']\n",
        "db_X = db.drop(['Outcome'],axis = 1)\n",
        "#splitting the dataset into training and testing parts\n",
        "train_X, test_X, train_Y, test_Y = train_test_split(db_X,db_Y,test_size=0.7,random_state=10)\n",
        "#Standardizing the dataset\n",
        "scaler = StandardScaler()\n",
        "scaler.fit(train_X)\n",
        "train_X = pd.DataFrame(data = scaler.transform(train_X), columns = train_X.columns)\n",
        "test_X = pd.DataFrame(data = scaler.transform(test_X), columns = test_X.columns)\n",
        "#applying logistic regression classification technique\n",
        "lreg = LogisticRegression(random_state = 10)\n",
        "lreg.fit(train_X,train_Y)\n"
      ],
      "execution_count": 0,
      "outputs": [
        {
          "output_type": "execute_result",
          "data": {
            "text/plain": [
              "LogisticRegression(C=1.0, class_weight=None, dual=False, fit_intercept=True,\n",
              "                   intercept_scaling=1, l1_ratio=None, max_iter=100,\n",
              "                   multi_class='auto', n_jobs=None, penalty='l2',\n",
              "                   random_state=10, solver='lbfgs', tol=0.0001, verbose=0,\n",
              "                   warm_start=False)"
            ]
          },
          "metadata": {
            "tags": []
          },
          "execution_count": 103
        }
      ]
    },
    {
      "cell_type": "code",
      "metadata": {
        "id": "clfioJ9LsZ6m",
        "colab_type": "code",
        "outputId": "bf07af0f-325f-446e-b046-f632877fe745",
        "colab": {
          "base_uri": "https://localhost:8080/",
          "height": 507
        }
      },
      "source": [
        "#Calculating the importance of each feature\n",
        "features_lreg = pd.DataFrame(list(zip(test_X.columns, lreg.coef_[0])))\n",
        "features_lreg = features_lreg.reindex(features_lreg[1].abs().\n",
        "                                      sort_values().index).set_index(0)\n",
        "#plotting the feature importance\n",
        "plot = features_lreg.plot.barh(legend = \"\")\n",
        "plot.set(xlabel = \"\", ylabel = \"\", title = \"Logistic Regression Coefficients\")\n",
        "plt.show()\n",
        "#The feature \"Glucose\" is the predominant feature affecting the accuracy the most"
      ],
      "execution_count": 0,
      "outputs": [
        {
          "output_type": "display_data",
          "data": {
            "image/png": "[encoded data removed]",
            "text/plain": [
              "<Figure size 720x576 with 1 Axes>"
            ]
          },
          "metadata": {
            "tags": [],
            "needs_background": "light"
          }
        }
      ]
    }
  ]
}